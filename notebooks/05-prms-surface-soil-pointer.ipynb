{
 "cells": [
  {
   "cell_type": "code",
   "execution_count": 1,
   "metadata": {},
   "outputs": [
    {
     "name": "stderr",
     "output_type": "stream",
     "text": [
      "\u001b[33;01m➡ models: Avulsion, Plume, Sedflux3D, Subside, Rafem, PRMSSurface, PRMSStreamflow, PRMSSoil, PRMSGroundwater, FrostNumber, Ku, Hydrotrend, GIPL, ECSimpleSnow, Cem, Waves\u001b[39;49;00m\n"
     ]
    }
   ],
   "source": [
    "%matplotlib inline\n",
    "import numpy as np\n",
    "from pymt.models import PRMSSurface, PRMSSoil, PRMSGroundwater, PRMSStreamflow\n",
    "from pathlib import Path\n",
    "import geopandas as gpd\n",
    "import pandas as pd\n",
    "import helper"
   ]
  },
  {
   "cell_type": "code",
   "execution_count": 2,
   "metadata": {},
   "outputs": [
    {
     "name": "stdout",
     "output_type": "stream",
     "text": [
      "True\n",
      "True\n",
      "True\n",
      "prms6-surface-BMI prms6-BMI-SOIL\n"
     ]
    }
   ],
   "source": [
    "run_dir = '../prms/pipestem'\n",
    "config_surf= 'control_surface.simple1'\n",
    "config_soil = 'control_soil.simple1'\n",
    "\n",
    "print(Path(run_dir).exists())\n",
    "print((Path(run_dir) / config_surf).exists())\n",
    "print((Path(run_dir) / config_soil).exists())\n",
    "\n",
    "msurf = PRMSSurface()\n",
    "msoil = PRMSSoil()\n",
    "\n",
    "print(msurf.name, msoil.name)\n"
   ]
  },
  {
   "cell_type": "code",
   "execution_count": 3,
   "metadata": {},
   "outputs": [],
   "source": [
    "msurf.initialize(config_surf, run_dir)\n",
    "msoil.initialize(config_soil, run_dir)"
   ]
  },
  {
   "cell_type": "code",
   "execution_count": 4,
   "metadata": {},
   "outputs": [
    {
     "name": "stdout",
     "output_type": "stream",
     "text": [
      "hru_area_perv\n",
      "hru_frac_perv\n",
      "srunoff_updated_soil\n",
      "transp_on\n",
      "hru_ppt\n",
      "dprst_evap_hru\n",
      "dprst_seep_hru\n",
      "infil\n",
      "sroff\n",
      "potet\n",
      "hru_intcpevap\n",
      "snow_evap\n",
      "snowcov_area\n",
      "soil_rechr\n",
      "soil_rechr_max\n",
      "soil_moist\n",
      "soil_moist_max\n",
      "hru_impervevap\n"
     ]
    }
   ],
   "source": [
    "soil_input_cond_vars = ['soil_rechr_chg', 'soil_moist_chg']\n",
    "\n",
    "surf2soil_vars = ['hru_ppt', 'dprst_evap_hru', \n",
    "                   'dprst_seep_hru', 'infil', 'sroff','potet', 'hru_intcpevap', \n",
    "                   'snow_evap', 'snowcov_area', 'soil_rechr', 'soil_rechr_max', \n",
    "                   'soil_moist', 'soil_moist_max', 'hru_impervevap']\n",
    "\n",
    "soilinput_vars = ['hru_area_perv', 'hru_frac_perv', 'srunoff_updated_soil', 'transp_on']\n",
    "\n",
    "soil2surf_vars = ['infil', 'sroff', 'soil_rechr', 'soil_moist']\n",
    "\n",
    "surf2gw_vars = ['pkwater_equiv', 'dprst_seep_hru', 'dprst_stor_hru', 'hru_intcpstor',\n",
    "               'hru_impervstor', 'sroff']\n",
    "\n",
    "soil2gw_vars = ['soil_moist_tot', 'soil_to_gw', 'ssr_to_gw', 'ssres_flow']\n",
    "\n",
    "surf2sf_vars = ['potet', 'swrad', 'sroff']\n",
    "\n",
    "soil2sf_vars = ['ssres_flow']\n",
    "\n",
    "gw2sf_vars = ['gwres_flow']\n",
    "\n",
    "def soilinput(msurf, msoil, exch_vars):\n",
    "    for var in exch_vars:\n",
    "        print(var)\n",
    "        msoil.set_value(var, msurf.get_value(var))\n",
    "            \n",
    "def soilexchange(msurf, msoil, exch_vars, cond_vars, dprst_flag, imperv_flag):\n",
    "    for var in exch_vars:\n",
    "        print(var)\n",
    "        msoil.set_value(var, msurf.get_value_ptr(var))\n",
    "    if dprst_flag in [1, 3] or imperv_flag in [1, 3]:\n",
    "        for var in cond_vars:\n",
    "            msoil.set_value(var, msurf.get_value_ptr(var))\n",
    "\n",
    "# def soil2surface(msoil, msurf, exch_vars):\n",
    "#     for var in exch_vars:\n",
    "#         msurf.set_value(var, msoil.get_value(var))\n",
    "        \n",
    "# def gwinput(msurf, msoil, mgw, surf_vars, soil_vars):\n",
    "#     for var in surf_vars:\n",
    "#         mgw.set_value(var, msurf.get_value(var))\n",
    "#     for var in soil_vars:\n",
    "#         mgw.set_value(var, msoil.get_value(var))\n",
    "        \n",
    "# def sfinput(msurf, msoil, mgw, msf, surf_vars, soil_vars, gw_vars):\n",
    "#     for var in surf_vars:\n",
    "#         msf.set_value(var, msurf.get_value(var))\n",
    "#     for var in soil_vars:\n",
    "#         msf.set_value(var, msoil.get_value(var))\n",
    "#     for var in gw_vars:\n",
    "#         msf.set_value(var, mgw.get_value(var))\n",
    "\n",
    "dprst_flag = msoil.get_value('dyn_dprst_flag')\n",
    "imperv_flag = msoil.get_value('dyn_imperv_flag')\n",
    "soilinput(msurf, msoil, soilinput_vars)\n",
    "soilexchange(msurf, msoil, surf2soil_vars, soil_input_cond_vars, dprst_flag, imperv_flag)\n",
    "def update_coupled(msurf, msoil):\n",
    "    msurf.update()\n",
    "    msoil.update()\n",
    "          "
   ]
  },
  {
   "cell_type": "code",
   "execution_count": 5,
   "metadata": {},
   "outputs": [],
   "source": [
    "for i in range(int(msurf.start_time),int(msurf.end_time)):\n",
    "    update_coupled(msurf, msoil)"
   ]
  },
  {
   "cell_type": "code",
   "execution_count": 7,
   "metadata": {},
   "outputs": [],
   "source": [
    "# CSDMS JupyterHub set path to HRU and streamsegment shapefiles\n",
    "hru_shp = '/data/prms/GIS/nhru_10U.shp'\n",
    "hru_strmseg = '/data/prms/GIS/nsegment_10U.shp'\n",
    "# set path to Gridmet weights file for mapping Gridmet gridded data to HRU\n",
    "weight_file = '/data/prms/weights.csv'\n",
    "\n",
    "# If using notebook not in CSDMS JupyterHub.  See README for instruction on where to \n",
    "# get the data and  uncomment out the following lines\n",
    "# hru_shp = './GIS/nhru_10U.shp'\n",
    "# hru_strmseg = './GIS/nsegment_10U.shp'\n",
    "# # set path to Gridmet weights file for mapping Gridmet gridded data to HRU\n",
    "# weight_file = './GIS/weights.csv'\n",
    "\n",
    "gdf_ps = helper.get_gdf(hru_shp, msurf)"
   ]
  },
  {
   "cell_type": "code",
   "execution_count": 8,
   "metadata": {},
   "outputs": [
    {
     "ename": "NameError",
     "evalue": "name 'mgw' is not defined",
     "output_type": "error",
     "traceback": [
      "\u001b[0;31m---------------------------------------------------------------------------\u001b[0m",
      "\u001b[0;31mNameError\u001b[0m                                 Traceback (most recent call last)",
      "\u001b[0;32m<ipython-input-8-46c7874af466>\u001b[0m in \u001b[0;36m<module>\u001b[0;34m\u001b[0m\n\u001b[1;32m      1\u001b[0m \u001b[0mmsurf\u001b[0m\u001b[0;34m.\u001b[0m\u001b[0mfinalize\u001b[0m\u001b[0;34m(\u001b[0m\u001b[0;34m)\u001b[0m\u001b[0;34m\u001b[0m\u001b[0;34m\u001b[0m\u001b[0m\n\u001b[1;32m      2\u001b[0m \u001b[0mmsoil\u001b[0m\u001b[0;34m.\u001b[0m\u001b[0mfinalize\u001b[0m\u001b[0;34m(\u001b[0m\u001b[0;34m)\u001b[0m\u001b[0;34m\u001b[0m\u001b[0;34m\u001b[0m\u001b[0m\n\u001b[0;32m----> 3\u001b[0;31m \u001b[0mmgw\u001b[0m\u001b[0;34m.\u001b[0m\u001b[0mfinalize\u001b[0m\u001b[0;34m(\u001b[0m\u001b[0;34m)\u001b[0m\u001b[0;34m\u001b[0m\u001b[0;34m\u001b[0m\u001b[0m\n\u001b[0m\u001b[1;32m      4\u001b[0m \u001b[0mmsf\u001b[0m\u001b[0;34m.\u001b[0m\u001b[0mfinalize\u001b[0m\u001b[0;34m(\u001b[0m\u001b[0;34m)\u001b[0m\u001b[0;34m\u001b[0m\u001b[0;34m\u001b[0m\u001b[0m\n",
      "\u001b[0;31mNameError\u001b[0m: name 'mgw' is not defined"
     ]
    }
   ],
   "source": [
    "msurf.finalize()\n",
    "msoil.finalize()"
   ]
  },
  {
   "cell_type": "code",
   "execution_count": 9,
   "metadata": {},
   "outputs": [],
   "source": [
    "import xarray as xr\n",
    "soil_file = Path('../prms/pipestem/output/summary_soil_daily.nc')\n",
    "surf_file = Path('../prms/pipestem/output/summary_surf_daily.nc')\n",
    "\n",
    "prms_file = Path('../prms/pipestem/output/summary_prms_daily.nc')\n",
    "clim_file = Path('../prms/pipestem/daymet.nc')\n",
    "dsoil = xr.open_dataset(soil_file)\n",
    "dprms = xr.open_dataset(prms_file)\n",
    "dsurf = xr.open_dataset(surf_file)\n",
    "\n",
    "clim = xr.open_dataset(clim_file)"
   ]
  },
  {
   "cell_type": "code",
   "execution_count": 10,
   "metadata": {},
   "outputs": [],
   "source": [
    "sim_start_date = dsoil.time.min()\n",
    "sim_end_date = dsoil.time.max()"
   ]
  },
  {
   "cell_type": "code",
   "execution_count": 11,
   "metadata": {},
   "outputs": [],
   "source": [
    "from pandas.plotting import register_matplotlib_converters\n",
    "register_matplotlib_converters()"
   ]
  },
  {
   "cell_type": "code",
   "execution_count": null,
   "metadata": {},
   "outputs": [],
   "source": []
  }
 ],
 "metadata": {
  "kernelspec": {
   "display_name": "Python 3",
   "language": "python",
   "name": "python3"
  },
  "language_info": {
   "codemirror_mode": {
    "name": "ipython",
    "version": 3
   },
   "file_extension": ".py",
   "mimetype": "text/x-python",
   "name": "python",
   "nbconvert_exporter": "python",
   "pygments_lexer": "ipython3",
   "version": "3.6.10"
  }
 },
 "nbformat": 4,
 "nbformat_minor": 2
}
